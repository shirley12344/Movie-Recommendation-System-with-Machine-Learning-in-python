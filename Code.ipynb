import numpy as np
import matplotlib.pyplot as plt
import seaborn as sns
from sklearn.metrics.pairwise import cosine_similarity
from sklearn.model_selection import train_test_split

# Sample movie ratings (rows: users, columns: movies)
ratings = np.array([
    [5, 4, 0, 0, 3, 0],
    [0, 0, 5, 4, 0, 0],
    [4, 0, 0, 0, 0, 2],
    [0, 0, 4, 5, 0, 0],
    [0, 0, 4, 0, 0, 5]
])

# Data Description
print("Data Description:")
print("-" * 20)
print("Rows represent users, and columns represent movies.")
print("Ratings are on a scale from 0 to 5, where 0 indicates no rating given.")
print("-" * 20)

# Visualize the ratings matrix
plt.figure(figsize=(8, 6))
sns.heatmap(ratings, annot=True, cmap='YlGnBu', linewidths=0.5, linecolor='grey', cbar=False)
plt.xlabel('Movies')
plt.ylabel('Users')
plt.title('Movie Ratings Matrix')
plt.show()

# Preprocessing: Fill missing values (0s) with mean ratings
mean_ratings = np.mean(ratings, axis=0)
ratings_filled = ratings.copy()
ratings_filled[ratings_filled == 0] = mean_ratings

# Splitting the data into train and test sets
ratings_train, ratings_test = train_test_split(ratings_filled, test_size=0.2, random_state=42)

# Calculate similarity matrix for train set
similarity_matrix_train = cosine_similarity(ratings_train)

# Target variable: Movie ID for which recommendations are needed
target_movie_id = 0

# Feature variables: Similarity scores with other movies
feature_variables = similarity_matrix_train[target_movie_id]

def get_movie_recommendations(movie_id, similarity_matrix, k=2):
    # Get similarity scores for the given movie
    movie_similarities = similarity_matrix[movie_id]
    # Get indices of most similar movies
    similar_movie_indices = np.argsort(movie_similarities)[::-1][1:k+1]
    # Return indices of recommended movies
    return similar_movie_indices

def evaluate_model(test_ratings, similarity_matrix, k=2):
    num_users, num_movies = test_ratings.shape
    total_recall = 0
    
    for user_id in range(num_users):
        for movie_id in range(num_movies):
            if test_ratings[user_id, movie_id] != 0:
                # Get indices of recommended movies
                recommended_movies = get_movie_recommendations(movie_id, similarity_matrix, k)
                # Check if the actual movie is in the recommended list
                if movie_id in recommended_movies:
                    total_recall += 1
    
    recall = total_recall / np.count_nonzero(test_ratings)
    return recall

# Evaluate model
recall_at_2 = evaluate_model(ratings_test, similarity_matrix_train, k=2)
print("Recall@2:", recall_at_2)

# Predictions
target_movie_id = 0
recommendations = get_movie_recommendations(target_movie_id, similarity_matrix_train, k=2)
print("Recommended movies for movie {}: {}".format(target_movie_id, recommendations))
